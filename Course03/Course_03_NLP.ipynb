{
 "cells": [
  {
   "cell_type": "markdown",
   "metadata": {},
   "source": [
    "# Week 01\n",
    "---\n",
    "* Tokenizer \n",
    "* Padding\n",
    "* Unique Word \n",
    "* Ovv Token"
   ]
  },
  {
   "cell_type": "code",
   "execution_count": 14,
   "metadata": {},
   "outputs": [],
   "source": [
    "from tensorflow.keras.preprocessing.text import Tokenizer # Convert Sentence To Vector\n",
    "from tensorflow.keras.preprocessing.sequence import pad_sequences # Fill Zeros In Long Sentences\n",
    "\n",
    "sentences = [\n",
    "    'I love my dog!', \n",
    "    'I love my cat',\n",
    "    'Do you think my dog is amazing?'\n",
    "]"
   ]
  },
  {
   "cell_type": "code",
   "execution_count": 15,
   "metadata": {},
   "outputs": [
    {
     "name": "stdout",
     "output_type": "stream",
     "text": [
      "{'<OOV>': 1, 'my': 2, 'i': 3, 'love': 4, 'dog': 5, 'cat': 6, 'do': 7, 'you': 8, 'think': 9, 'is': 10, 'amazing': 11}\n"
     ]
    }
   ],
   "source": [
    "# All punctuation and upper word convert to lower\n",
    "tokenizer = Tokenizer(num_words=100, oov_token='<OOV>') # num_word - it's size of our dictionary  \n",
    "tokenizer.fit_on_texts(sentences)\n",
    "word_index = tokenizer.word_index # Word Index - Create Dictionary \n",
    "print(word_index)"
   ]
  },
  {
   "cell_type": "code",
   "execution_count": 16,
   "metadata": {},
   "outputs": [
    {
     "name": "stdout",
     "output_type": "stream",
     "text": [
      "[[3, 4, 2, 5], [3, 4, 2, 6], [7, 8, 9, 2, 5, 10, 11]]\n"
     ]
    }
   ],
   "source": [
    "# If we have sentences with different size \n",
    "# Convert to Int \n",
    "sequences = tokenizer.texts_to_sequences(sentences)\n",
    "print(sequences)"
   ]
  },
  {
   "cell_type": "code",
   "execution_count": 26,
   "metadata": {},
   "outputs": [
    {
     "name": "stdout",
     "output_type": "stream",
     "text": [
      "Padding Before:\n",
      "[[ 0  0  0  3  4  2  5]\n",
      " [ 0  0  0  3  4  2  6]\n",
      " [ 7  8  9  2  5 10 11]]\n",
      "\n",
      "Padding After:\n",
      "[[ 3  4  2  5  0  0  0]\n",
      " [ 3  4  2  6  0  0  0]\n",
      " [ 7  8  9  2  5 10 11]]\n",
      "\n",
      "Paddning Max Len=5:\n",
      "[[ 3  4  2  5  0]\n",
      " [ 3  4  2  6  0]\n",
      " [ 9  2  5 10 11]]\n"
     ]
    }
   ],
   "source": [
    "# Padding Fills Zeros To Same Lenght  \n",
    "padded = pad_sequences(sequences)\n",
    "print('Padding Before:')\n",
    "print(padded)\n",
    "\n",
    "# Fill Zeros After Text\n",
    "padded = pad_sequences(sequences, padding='post')\n",
    "print('\\nPadding After:')\n",
    "print(padded)\n",
    "\n",
    "# Create Max Lenght\n",
    "padded = pad_sequences(sequences, padding='post', maxlen=5)\n",
    "print('\\nPaddning Max Len=5:')\n",
    "print(padded)"
   ]
  },
  {
   "cell_type": "code",
   "execution_count": 27,
   "metadata": {},
   "outputs": [
    {
     "name": "stdout",
     "output_type": "stream",
     "text": [
      "Int Sequences:\n",
      "[[3, 1, 4, 2, 5], [2, 1, 1, 2, 1, 1, 1]]\n",
      "\n",
      "Padding\n",
      "[[0 0 3 1 4 2 5]\n",
      " [2 1 1 2 1 1 1]]\n"
     ]
    }
   ],
   "source": [
    "# When we don't have text in main corpus dictionary\n",
    "# Which word we don't have, replace to OOV_TOKEN\n",
    "test_data = [\n",
    "    'i really love my dog',\n",
    "    'my dogs loves my manatee very much'\n",
    "]\n",
    "# Convert to Int \n",
    "test_seq = tokenizer.texts_to_sequences(test_data)\n",
    "print('Int Sequences:')\n",
    "print(test_seq)\n",
    "\n",
    "test_pad = pad_sequences(test_seq)\n",
    "print('\\nPadding')\n",
    "print(test_pad)"
   ]
  },
  {
   "cell_type": "markdown",
   "metadata": {},
   "source": [
    "## Week 02 Word Embedding "
   ]
  },
  {
   "cell_type": "code",
   "execution_count": 2,
   "metadata": {},
   "outputs": [],
   "source": [
    "import tensorflow as tf\n",
    "import tensorflow_datasets as tfds\n",
    "import numpy as np\n",
    "\n",
    "imdb, info = tfds.load(\"imdb_reviews\", with_info=True, as_supervised=True)"
   ]
  },
  {
   "cell_type": "markdown",
   "metadata": {},
   "source": [
    "Add Data In Two Arrays(Sentences and Labels)"
   ]
  },
  {
   "cell_type": "code",
   "execution_count": 13,
   "metadata": {},
   "outputs": [],
   "source": [
    "train_data, test_data = imdb['train'], imdb['test']\n",
    "\n",
    "training_sentences = []\n",
    "training_labels = []\n",
    "\n",
    "testing_sentences = []\n",
    "testing_labels = []\n",
    "\n",
    "# str(s.tonumpy()) is needed in Python3 instead of just s.numpy()\n",
    "for text, label in train_data:\n",
    "    training_sentences.append(str(text.numpy()))\n",
    "    training_labels.append(label.numpy())\n",
    "  \n",
    "for text, label in test_data:\n",
    "    testing_sentences.append(str(text.numpy()))\n",
    "    testing_labels.append(label.numpy())\n",
    "\n",
    "\n",
    "training_labels = np.array(training_labels)\n",
    "testing_labels = np.array(testing_labels)"
   ]
  },
  {
   "cell_type": "markdown",
   "metadata": {},
   "source": [
    "**Make pre-processing of text**\n",
    "* Tokenization -> Words in Number\n",
    "* Word Index -> Dict Style, Word And Index \n",
    "* Text To Seq -> Arrays With Numbers\n",
    "* Padding -> Fill Seq to Same Legnth "
   ]
  },
  {
   "cell_type": "code",
   "execution_count": 14,
   "metadata": {},
   "outputs": [],
   "source": [
    "vocab_size = 10000\n",
    "embedding_dim = 16\n",
    "max_length = 120\n",
    "trunc_type='post'\n",
    "oov_tok = \"<OOV>\"\n",
    "\n",
    "\n",
    "from tensorflow.keras.preprocessing.text import Tokenizer\n",
    "from tensorflow.keras.preprocessing.sequence import pad_sequences\n",
    "\n",
    "tokenizer = Tokenizer(num_words=vocab_size, \n",
    "                      oov_token=oov_tok)\n",
    "tokenizer.fit_on_texts(training_sentences)\n",
    "\n",
    "word_index = tokenizer.word_index\n",
    "\n",
    "sequences = tokenizer.texts_to_sequences(training_sentences)\n",
    "\n",
    "padded = pad_sequences(sequences,\n",
    "                       maxlen=max_length, \n",
    "                       truncating=trunc_type)\n",
    "\n",
    "testing_sequences = tokenizer.texts_to_sequences(testing_sentences)\n",
    "testing_padded = pad_sequences(testing_sequences,\n",
    "                               maxlen=max_length)"
   ]
  },
  {
   "cell_type": "markdown",
   "metadata": {},
   "source": [
    "### Switch Word Index To Text"
   ]
  },
  {
   "cell_type": "code",
   "execution_count": 15,
   "metadata": {},
   "outputs": [
    {
     "name": "stdout",
     "output_type": "stream",
     "text": [
      "b'this was a wonderfully clever and entertaining movie that i shall never tire of watching many many times the casting was magnificent in matching up the young with the older characters there are those of us out here who really do appreciate good actors and an intelligent story format as for <OOV> <OOV> she is beautiful and a gift to any kind of production in which she stars i always make a point to see <OOV> <OOV> in all her performances she is a superb actress and a pleasure to watch as each transformation of her character comes to life i can only be grateful when i see such an outstanding picture for most of the motion pictures made more\n",
      "b'This was a wonderfully clever and entertaining movie that I shall never tire of watching many, many times. The casting was magnificent in matching up the young with the older characters. There are those of us out here who really do appreciate good actors and an intelligent story format. As for Judi Dench, she is beautiful and a gift to any kind of production in which she stars. I always make a point to see Judi Dench in all her performances. She is a superb actress and a pleasure to watch as each transformation of her character comes to life. I can only be grateful when I see such an outstanding picture for most of the motion pictures made more recently lack good characters, good scripts and good acting. The movie public needs heroes, not deviant manikins, who lack ingenuity and talent. How wonderful to see old favorites like Leslie Caron, Olympia Dukakis and Cleo Laine. I would like to see this movie win the awards it deserves. Thank you again for a tremendous night of entertainment. I congratulate the writer, director, producer, and all those who did such a fine job.'\n"
     ]
    }
   ],
   "source": [
    "reverse_word_index = dict([(value, key) for (key, value) in word_index.items()])\n",
    "\n",
    "def decode_review(text):\n",
    "    return ' '.join([reverse_word_index.get(i, '?') for i in text])\n",
    "\n",
    "print(decode_review(padded[3]))\n",
    "print(training_sentences[3])"
   ]
  },
  {
   "cell_type": "code",
   "execution_count": 20,
   "metadata": {},
   "outputs": [
    {
     "name": "stdout",
     "output_type": "stream",
     "text": [
      "Model: \"sequential_3\"\n",
      "_________________________________________________________________\n",
      "Layer (type)                 Output Shape              Param #   \n",
      "=================================================================\n",
      "embedding_3 (Embedding)      (None, 120, 16)           160000    \n",
      "_________________________________________________________________\n",
      "flatten_1 (Flatten)          (None, 1920)              0         \n",
      "_________________________________________________________________\n",
      "dense_6 (Dense)              (None, 6)                 11526     \n",
      "_________________________________________________________________\n",
      "dense_7 (Dense)              (None, 1)                 7         \n",
      "=================================================================\n",
      "Total params: 171,533\n",
      "Trainable params: 171,533\n",
      "Non-trainable params: 0\n",
      "_________________________________________________________________\n"
     ]
    }
   ],
   "source": [
    "# Make a model With FlobalAverage1D faster, but accuracy shitty \n",
    "model = tf.keras.Sequential([\n",
    "    tf.keras.layers.Embedding(vocab_size, embedding_dim, input_length=max_length),\n",
    "    tf.keras.layers.GlobalAveragePooling1D(), #or Flatten() - more accuracy, but slower\n",
    "    tf.keras.layers.Dense(6, activation='relu'),\n",
    "    tf.keras.layers.Dense(1, activation='sigmoid')\n",
    "])\n",
    "model.compile(loss='binary_crossentropy',optimizer='adam',metrics=['accuracy'])\n",
    "model.summary()"
   ]
  },
  {
   "cell_type": "code",
   "execution_count": 21,
   "metadata": {},
   "outputs": [
    {
     "name": "stdout",
     "output_type": "stream",
     "text": [
      "Train on 25000 samples, validate on 25000 samples\n",
      "Epoch 1/5\n",
      "25000/25000 [==============================] - 4s 162us/sample - loss: 0.5292 - accuracy: 0.7091 - val_loss: 0.3688 - val_accuracy: 0.8350\n",
      "Epoch 2/5\n",
      "25000/25000 [==============================] - 3s 129us/sample - loss: 0.2514 - accuracy: 0.9014 - val_loss: 0.3727 - val_accuracy: 0.8376\n",
      "Epoch 3/5\n",
      "25000/25000 [==============================] - 3s 127us/sample - loss: 0.0989 - accuracy: 0.9731 - val_loss: 0.4483 - val_accuracy: 0.8282\n",
      "Epoch 4/5\n",
      "25000/25000 [==============================] - 3s 127us/sample - loss: 0.0265 - accuracy: 0.9972 - val_loss: 0.5334 - val_accuracy: 0.8261\n",
      "Epoch 5/5\n",
      "25000/25000 [==============================] - 4s 152us/sample - loss: 0.0106 - accuracy: 0.9989 - val_loss: 0.5881 - val_accuracy: 0.8250\n"
     ]
    },
    {
     "data": {
      "text/plain": [
       "<tensorflow.python.keras.callbacks.History at 0x10bb05630>"
      ]
     },
     "execution_count": 21,
     "metadata": {},
     "output_type": "execute_result"
    }
   ],
   "source": [
    "num_epochs = 5\n",
    "model.fit(padded, \n",
    "          training_labels, \n",
    "          epochs=num_epochs, \n",
    "          validation_data=(testing_padded, testing_labels))"
   ]
  },
  {
   "cell_type": "code",
   "execution_count": 19,
   "metadata": {},
   "outputs": [
    {
     "name": "stdout",
     "output_type": "stream",
     "text": [
      "(10000, 16)\n"
     ]
    }
   ],
   "source": [
    "e = model.layers[0]\n",
    "weights = e.get_weights()[0]\n",
    "print(weights.shape) # shape: (vocab_size, embedding_dim)"
   ]
  },
  {
   "cell_type": "code",
   "execution_count": 36,
   "metadata": {},
   "outputs": [
    {
     "data": {
      "image/png": "[encoded data removed]",
      "text/plain": [
       "<Figure size 432x288 with 1 Axes>"
      ]
     },
     "metadata": {
      "needs_background": "light"
     },
     "output_type": "display_data"
    },
    {
     "data": {
      "image/png": "[encoded data removed]",
      "text/plain": [
       "<Figure size 432x288 with 1 Axes>"
      ]
     },
     "metadata": {
      "needs_background": "light"
     },
     "output_type": "display_data"
    }
   ],
   "source": [
    "import matplotlib.pyplot as plt\n",
    "\n",
    "\n",
    "def plot_graphs(model, string):\n",
    "    plt.plot(model.history.history[string])\n",
    "    plt.plot(model.history.history['val_'+string])\n",
    "    plt.xlabel(\"Epochs\")\n",
    "    plt.ylabel(string)\n",
    "    plt.legend([string, 'val_'+string])\n",
    "    plt.show()\n",
    "  \n",
    "\n",
    "\n",
    "plot_graphs(model, \"accuracy\")\n",
    "plot_graphs(model, \"loss\")\n"
   ]
  },
  {
   "cell_type": "markdown",
   "metadata": {},
   "source": [
    "This is for Visualisation Embeddings\n",
    "https://projector.tensorflow.org"
   ]
  },
  {
   "cell_type": "code",
   "execution_count": 22,
   "metadata": {},
   "outputs": [],
   "source": [
    "import io\n",
    "\n",
    "out_v = io.open('visualisation/vecs.tsv', 'w', encoding='utf-8')\n",
    "out_m = io.open('visualisation/meta.tsv', 'w', encoding='utf-8')\n",
    "\n",
    "for word_num in range(1, vocab_size):\n",
    "    word = reverse_word_index[word_num]\n",
    "    embeddings = weights[word_num]\n",
    "    out_m.write(word + \"\\n\")\n",
    "    out_v.write('\\t'.join([str(x) for x in embeddings]) + \"\\n\")\n",
    "\n",
    "out_v.close()\n",
    "out_m.close()"
   ]
  }
 ],
 "metadata": {
  "kernelspec": {
   "display_name": "tf2_env",
   "language": "python",
   "name": "tf2_env"
  },
  "language_info": {
   "codemirror_mode": {
    "name": "ipython",
    "version": 3
   },
   "file_extension": ".py",
   "mimetype": "text/x-python",
   "name": "python",
   "nbconvert_exporter": "python",
   "pygments_lexer": "ipython3",
   "version": "3.6.2"
  }
 },
 "nbformat": 4,
 "nbformat_minor": 2
}
